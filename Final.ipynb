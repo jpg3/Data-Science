{
 "cells": [
  {
   "cell_type": "markdown",
   "metadata": {},
   "source": [
    "# Data Science Case Study"
   ]
  },
  {
   "cell_type": "markdown",
   "metadata": {},
   "source": [
    "**Name:** Joseph P Gallagher \n",
    "\n",
    "**University:** Virginia Tech\n",
    "\n",
    "**Majors:** Economics and Computational Modeling & Data Analytics (CMDA)\n",
    "    \n",
    "**Date:**  9/16/2019\n",
    "\n"
   ]
  },
  {
   "cell_type": "markdown",
   "metadata": {},
   "source": [
    "## Project Summary"
   ]
  },
  {
   "attachments": {},
   "cell_type": "markdown",
   "metadata": {},
   "source": [
    "   In this case study we attempt to deliver insights into a retail company's business model. By examining historical operation data across all locations we hope to have developed solutions that will allow this company to scale it’s operations, while keeping Profit Margins high. Through regression and fundamental analyses, we developed potential strategies that will allow this company to achieve its goals.\n",
    " \n",
    "   This company currently operates in a very seasonal market. Revenue and Variable costs peak in each quarter-ending month. Additionally, Avg. Cost per Unit is very high (company ACPU = $4,878). This leaves us to believe we are working in a commission-based retail industry. This would explain why we currently see such high Profit Margins relative to the current retail space. Also, there appears to be no ecommerce in this business model. If this is the case, it is imperative that we direct our scaling operations in the most effective manner, as increasing Profit Margin will require increasing total transaction volumes.\n",
    "    \n",
    "   It is our recommendation that this company increase the total volume of products they sell. As sales of  this company increase, so does their contribution margin. This company can directly benefit from economies of scale if they begin to offer a larger number of products at each store. This would increase their market share, while also helping keeping Net Income high.\n",
    "    \n",
    "   Additionally, it is our recommendation that to increase Profit Margin, this company should expand their operations in Texas, California, Washington, and Colorado. Historically, stores in these states have yielded the highest profit margin. New Jersey, Illinois, and Georgia’s total costs are much higher relative to their gross revenue. While still profitable, growing in these states  would suppress Profit Margins. \n",
    "    \n",
    "   Finally, if the CEO truly wants to increase overall Profit Margin, they could close down select stores. There are 5 stores whose Profit Margins are statistical outliers. Location-157 ran at a net loss for half of the year. However, it is important to note that all of these stores are still profitable and are above their break-even point, and shutting down these stores would only increase Profit Margin minimally."
   ]
  },
  {
   "cell_type": "markdown",
   "metadata": {},
   "source": [
    "#### Imports"
   ]
  },
  {
   "cell_type": "code",
   "execution_count": 1027,
   "metadata": {},
   "outputs": [],
   "source": [
    "import pandas as pd\n",
    "import matplotlib.pyplot as plt\n",
    "import numpy as np\n",
    "from scipy import stats\n",
    "from scipy.stats import gaussian_kde\n",
    "from statsmodels.formula.api import ols\n",
    "import seaborn as sns\n",
    "import pylab \n",
    "import matplotlib.dates as mdates\n",
    "import statsmodels.api as sm\n",
    "from IPython.display import display_html\n",
    "from sklearn.ensemble import RandomForestRegressor\n",
    "from sklearn.datasets import make_regression\n",
    "from sklearn import preprocessing\n",
    "from sklearn.model_selection import train_test_split\n",
    "from sklearn.preprocessing import scale\n",
    "from sklearn import linear_model\n",
    "from matplotlib.ticker import FuncFormatter\n",
    "import matplotlib.lines as mlines\n",
    "import matplotlib.transforms as mtransforms"
   ]
  },
  {
   "cell_type": "markdown",
   "metadata": {},
   "source": [
    "#### Read CSV"
   ]
  },
  {
   "cell_type": "code",
   "execution_count": 1061,
   "metadata": {},
   "outputs": [],
   "source": [
    "rawData = pd.read_csv('undergrad_takehome_2020.csv')"
   ]
  },
  {
   "cell_type": "markdown",
   "metadata": {},
   "source": [
    "## Part 1 - Summary Stastics and Plots"
   ]
  },
  {
   "cell_type": "markdown",
   "metadata": {},
   "source": [
    "#### 1)"
   ]
  },
  {
   "cell_type": "markdown",
   "metadata": {},
   "source": [
    "We began by first performing accounting operations on the data. We solved for Total Cost (Fixed Cost + Variable Cost) and Net Income  (Gross Revenue - Total Cost). Next we found the accounting totals at each location, and calculated each store's Profit Margin (Net Income/ Gross Revenue)."
   ]
  },
  {
   "cell_type": "code",
   "execution_count": 639,
   "metadata": {},
   "outputs": [],
   "source": [
    "accountingData = rawData.copy()\n",
    "accountingData['Total cost'] = accountingData['Variable cost'] + accountingData['Fixed cost']\n",
    "accountingData['Net income'] = accountingData['Gross revenue'] - accountingData['Total cost']"
   ]
  },
  {
   "cell_type": "code",
   "execution_count": 656,
   "metadata": {},
   "outputs": [
    {
     "data": {
      "text/html": [
       "<div>\n",
       "<style scoped>\n",
       "    .dataframe tbody tr th:only-of-type {\n",
       "        vertical-align: middle;\n",
       "    }\n",
       "\n",
       "    .dataframe tbody tr th {\n",
       "        vertical-align: top;\n",
       "    }\n",
       "\n",
       "    .dataframe thead th {\n",
       "        text-align: right;\n",
       "    }\n",
       "</style>\n",
       "<table border=\"1\" class=\"dataframe\">\n",
       "  <thead>\n",
       "    <tr style=\"text-align: right;\">\n",
       "      <th></th>\n",
       "      <th>Gross revenue</th>\n",
       "      <th>Fixed cost</th>\n",
       "      <th>Variable cost</th>\n",
       "      <th>Total cost</th>\n",
       "      <th>Net income</th>\n",
       "      <th>Profit Margin</th>\n",
       "    </tr>\n",
       "    <tr>\n",
       "      <th>Location number</th>\n",
       "      <th></th>\n",
       "      <th></th>\n",
       "      <th></th>\n",
       "      <th></th>\n",
       "      <th></th>\n",
       "      <th></th>\n",
       "    </tr>\n",
       "  </thead>\n",
       "  <tbody>\n",
       "    <tr>\n",
       "      <th>1</th>\n",
       "      <td>5.447389e+08</td>\n",
       "      <td>1.108956e+08</td>\n",
       "      <td>2.793687e+08</td>\n",
       "      <td>3.902643e+08</td>\n",
       "      <td>1.544746e+08</td>\n",
       "      <td>28.357547</td>\n",
       "    </tr>\n",
       "    <tr>\n",
       "      <th>2</th>\n",
       "      <td>3.559730e+08</td>\n",
       "      <td>7.287395e+07</td>\n",
       "      <td>1.937291e+08</td>\n",
       "      <td>2.666030e+08</td>\n",
       "      <td>8.936996e+07</td>\n",
       "      <td>25.105826</td>\n",
       "    </tr>\n",
       "    <tr>\n",
       "      <th>3</th>\n",
       "      <td>3.317718e+08</td>\n",
       "      <td>6.429775e+07</td>\n",
       "      <td>1.848279e+08</td>\n",
       "      <td>2.491256e+08</td>\n",
       "      <td>8.264618e+07</td>\n",
       "      <td>24.910550</td>\n",
       "    </tr>\n",
       "    <tr>\n",
       "      <th>4</th>\n",
       "      <td>2.639843e+08</td>\n",
       "      <td>6.410409e+07</td>\n",
       "      <td>1.432398e+08</td>\n",
       "      <td>2.073439e+08</td>\n",
       "      <td>5.664041e+07</td>\n",
       "      <td>21.455975</td>\n",
       "    </tr>\n",
       "    <tr>\n",
       "      <th>5</th>\n",
       "      <td>1.890016e+08</td>\n",
       "      <td>4.475050e+07</td>\n",
       "      <td>1.037553e+08</td>\n",
       "      <td>1.485058e+08</td>\n",
       "      <td>4.049578e+07</td>\n",
       "      <td>21.426157</td>\n",
       "    </tr>\n",
       "  </tbody>\n",
       "</table>\n",
       "</div>"
      ],
      "text/plain": [
       "                 Gross revenue    Fixed cost  Variable cost    Total cost  \\\n",
       "Location number                                                             \n",
       "1                 5.447389e+08  1.108956e+08   2.793687e+08  3.902643e+08   \n",
       "2                 3.559730e+08  7.287395e+07   1.937291e+08  2.666030e+08   \n",
       "3                 3.317718e+08  6.429775e+07   1.848279e+08  2.491256e+08   \n",
       "4                 2.639843e+08  6.410409e+07   1.432398e+08  2.073439e+08   \n",
       "5                 1.890016e+08  4.475050e+07   1.037553e+08  1.485058e+08   \n",
       "\n",
       "                   Net income  Profit Margin  \n",
       "Location number                               \n",
       "1                1.544746e+08      28.357547  \n",
       "2                8.936996e+07      25.105826  \n",
       "3                8.264618e+07      24.910550  \n",
       "4                5.664041e+07      21.455975  \n",
       "5                4.049578e+07      21.426157  "
      ]
     },
     "execution_count": 656,
     "metadata": {},
     "output_type": "execute_result"
    }
   ],
   "source": [
    "ssByLoc = accountingData[['Location number', 'Gross revenue', 'Fixed cost',\n",
    "                   'Variable cost', 'Total cost', 'Net income']].copy()\n",
    "ssByLoc = ssByLoc.groupby('Location number').sum()\n",
    "ssByLoc['Profit Margin'] = (100*(ssByLoc['Net income'] / ssByLoc['Gross revenue']))\n",
    "ssByLoc.head()"
   ]
  },
  {
   "cell_type": "code",
   "execution_count": 641,
   "metadata": {},
   "outputs": [
    {
     "name": "stdout",
     "output_type": "stream",
     "text": [
      "Mean: 25.401183118537112\n",
      "Median: 26.711186779772767\n"
     ]
    }
   ],
   "source": [
    "print('Mean:', ssByLoc['Profit Margin'].mean())\n",
    "print('Median:', ssByLoc['Profit Margin'].median())"
   ]
  },
  {
   "cell_type": "code",
   "execution_count": 362,
   "metadata": {},
   "outputs": [
    {
     "data": {
      "image/png": "[encoded data removed]",
      "text/plain": [
       "<Figure size 850x255 with 2 Axes>"
      ]
     },
     "metadata": {
      "needs_background": "light"
     },
     "output_type": "display_data"
    }
   ],
   "source": [
    "plt.figure(figsize=(10, 3), dpi= 85)\n",
    "\n",
    "dist = plt.subplot(1,2,1)\n",
    "sns.distplot(ssByLoc['Profit Margin'], hist=True, kde=True, bins=20, color = 'darkblue', \n",
    "             hist_kws={'edgecolor':'black'}, \n",
    "             kde_kws={'linewidth': 4})\n",
    "dist.set_title('Profit Margin Distribution')\n",
    "dist.set_ylabel('Density')\n",
    "dist.set_xlabel('Location Profit Margins')\n",
    "\n",
    "qq = plt.subplot(1, 2, 2)\n",
    "stats.probplot(ssByLoc['Profit Margin'], dist=\"norm\", plot=pylab)\n",
    "qq.set_title(\"QQ Probability Plot\")\n",
    "\n",
    "plt.tight_layout()"
   ]
  },
  {
   "cell_type": "markdown",
   "metadata": {},
   "source": [
    "As we can see the Data follows a fairly Normal Distribution, but is slight skewed to the left, as the Mean is just slightly smaller than the Median. The Density function of the distribution follows a bell-curve pattern and the QQ plot fits the line fairly well"
   ]
  },
  {
   "cell_type": "markdown",
   "metadata": {},
   "source": [
    "#### 2)"
   ]
  },
  {
   "cell_type": "code",
   "execution_count": 300,
   "metadata": {},
   "outputs": [],
   "source": [
    "def display_side_by_side(*args):\n",
    "    html_str=''\n",
    "    for df in args:\n",
    "        html_str+=df.to_html()\n",
    "    display_html(html_str.replace('table','table style=\"display:inline\"'),raw=True)"
   ]
  },
  {
   "cell_type": "code",
   "execution_count": 301,
   "metadata": {},
   "outputs": [
    {
     "data": {
      "text/html": [
       "<table style=\"display:inline\" border=\"1\" class=\"dataframe\">\n",
       "  <thead>\n",
       "    <tr style=\"text-align: right;\">\n",
       "      <th></th>\n",
       "      <th>Gross revenue</th>\n",
       "    </tr>\n",
       "  </thead>\n",
       "  <tbody>\n",
       "    <tr>\n",
       "      <th>Jan</th>\n",
       "      <td>9304129223</td>\n",
       "    </tr>\n",
       "    <tr>\n",
       "      <th>Feb</th>\n",
       "      <td>9786842932</td>\n",
       "    </tr>\n",
       "    <tr>\n",
       "      <th>Mar</th>\n",
       "      <td>11587361200</td>\n",
       "    </tr>\n",
       "    <tr>\n",
       "      <th>Apr</th>\n",
       "      <td>9105208425</td>\n",
       "    </tr>\n",
       "    <tr>\n",
       "      <th>May</th>\n",
       "      <td>9347461485</td>\n",
       "    </tr>\n",
       "    <tr>\n",
       "      <th>Jun</th>\n",
       "      <td>11297643513</td>\n",
       "    </tr>\n",
       "    <tr>\n",
       "      <th>Jul</th>\n",
       "      <td>9005478090</td>\n",
       "    </tr>\n",
       "    <tr>\n",
       "      <th>Aug</th>\n",
       "      <td>9625942279</td>\n",
       "    </tr>\n",
       "    <tr>\n",
       "      <th>Sep</th>\n",
       "      <td>11249652068</td>\n",
       "    </tr>\n",
       "    <tr>\n",
       "      <th>Oct</th>\n",
       "      <td>9413548683</td>\n",
       "    </tr>\n",
       "    <tr>\n",
       "      <th>Nov</th>\n",
       "      <td>8983799310</td>\n",
       "    </tr>\n",
       "    <tr>\n",
       "      <th>Dec</th>\n",
       "      <td>11539819130</td>\n",
       "    </tr>\n",
       "  </tbody>\n",
       "</table style=\"display:inline\"><table style=\"display:inline\" border=\"1\" class=\"dataframe\">\n",
       "  <thead>\n",
       "    <tr style=\"text-align: right;\">\n",
       "      <th></th>\n",
       "      <th>Quarterly Gross Revenue</th>\n",
       "    </tr>\n",
       "  </thead>\n",
       "  <tbody>\n",
       "    <tr>\n",
       "      <th>Q1</th>\n",
       "      <td>30678333357</td>\n",
       "    </tr>\n",
       "    <tr>\n",
       "      <th>Q2</th>\n",
       "      <td>29750313424</td>\n",
       "    </tr>\n",
       "    <tr>\n",
       "      <th>Q3</th>\n",
       "      <td>29881072438</td>\n",
       "    </tr>\n",
       "    <tr>\n",
       "      <th>Q4</th>\n",
       "      <td>29937167124</td>\n",
       "    </tr>\n",
       "  </tbody>\n",
       "</table style=\"display:inline\">"
      ]
     },
     "metadata": {},
     "output_type": "display_data"
    }
   ],
   "source": [
    "rev_Data = rawData[['Month', 'Gross revenue']].copy().groupby(['Month']).sum()\n",
    "rev_Data.index = list(['Jan', 'Feb', 'Mar', 'Apr', 'May', 'Jun', 'Jul', 'Aug', 'Sep', 'Oct', 'Nov', 'Dec'])\n",
    "rev_Data.rename(columns= {0:'Monthly Gross revenue'})\n",
    "\n",
    "qData = pd.DataFrame(rev_Data.values.reshape(-1, 3).sum(1)).rename(columns={0: \"Quarterly Gross Revenue\"})\n",
    "qData.index = list(['Q1', 'Q2', 'Q3', 'Q4'])\n",
    "\n",
    "display_side_by_side(rev_Data.astype('int64'), qData.astype('int64'))"
   ]
  },
  {
   "cell_type": "code",
   "execution_count": 360,
   "metadata": {},
   "outputs": [
    {
     "data": {
      "image/png": "[encoded data removed]",
      "text/plain": [
       "<Figure size 850x255 with 2 Axes>"
      ]
     },
     "metadata": {
      "needs_background": "light"
     },
     "output_type": "display_data"
    }
   ],
   "source": [
    "def Billions(x, pos):\n",
    "    'The two args are the value and tick position'\n",
    "    return '$%1.1fB' % (x*1e-9)\n",
    "\n",
    "formatterb = plt.FuncFormatter(Billions)\n",
    "index = qData.index\n",
    "index2 = rev_Data.index\n",
    "\n",
    "plt.figure(figsize=(10, 3), dpi= 85)\n",
    "\n",
    "ax = plt.subplot(1, 2, 1)\n",
    "ax.yaxis.set_major_formatter(formatterb)\n",
    "plt.plot(index2, rev_Data['Gross revenue'])\n",
    "plt.xlabel('Months', fontsize=10)\n",
    "plt.ylabel('Gross Revenue', fontsize=10)\n",
    "plt.xticks(index2, fontsize=10, rotation=0)\n",
    "plt.title('Monthly Gross Revenue')\n",
    "\n",
    "\n",
    "ax = plt.subplot(1, 2, 2)\n",
    "ax.yaxis.set_major_formatter(formatterb)\n",
    "plt. = 'viridis'\n",
    "ax.set(ylim=[28000000000, 32000000000])\n",
    "plt.bar(index, qData['Quarterly Gross Revenue'])\n",
    "plt.xlabel('Quarter', fontsize=10)\n",
    "plt.ylabel('Gross Revenue', fontsize=10)\n",
    "plt.xticks(index, fontsize=10, rotation=0)\n",
    "plt.title('Quarterly Gross Revenue')\n",
    "\n",
    "\n",
    "plt.tight_layout()"
   ]
  },
  {
   "cell_type": "markdown",
   "metadata": {},
   "source": [
    "## Part 2 - Cleaning the data"
   ]
  },
  {
   "attachments": {},
   "cell_type": "markdown",
   "metadata": {},
   "source": [
    "The Rental Cost of a property is classified as a Fixed cost. Before we could perform any further analyses on the data we needed to remove Rental Cost from Fixed Cost so as to not be counted twice. Next, we found the annual average value of every accounting item at each store. We then separated the data into two sets; one where the locations are owned, and one where they are rented. \n",
    "\n",
    "To impute the most accurate data, we trained a Random Forest Regression on the Rented data set, and ran it on the Owned data set. Due to the categorical variable \"State\", we had to One Hot Encode our values prior to training the data. We also run a Mean Accuracy Precision Test on the model to see how closely the model predicts the actual Rental Cost."
   ]
  },
  {
   "cell_type": "code",
   "execution_count": 621,
   "metadata": {
    "scrolled": true
   },
   "outputs": [
    {
     "data": {
      "text/html": [
       "<div>\n",
       "<style scoped>\n",
       "    .dataframe tbody tr th:only-of-type {\n",
       "        vertical-align: middle;\n",
       "    }\n",
       "\n",
       "    .dataframe tbody tr th {\n",
       "        vertical-align: top;\n",
       "    }\n",
       "\n",
       "    .dataframe thead th {\n",
       "        text-align: right;\n",
       "    }\n",
       "</style>\n",
       "<table border=\"1\" class=\"dataframe\">\n",
       "  <thead>\n",
       "    <tr style=\"text-align: right;\">\n",
       "      <th></th>\n",
       "      <th>Location number</th>\n",
       "      <th>Month</th>\n",
       "      <th>State</th>\n",
       "      <th>Gross revenue</th>\n",
       "      <th>Fixed cost</th>\n",
       "      <th>Variable cost</th>\n",
       "      <th>Rental cost</th>\n",
       "      <th>Number of products</th>\n",
       "      <th>Owned</th>\n",
       "      <th>Total cost</th>\n",
       "      <th>Net income</th>\n",
       "    </tr>\n",
       "  </thead>\n",
       "  <tbody>\n",
       "    <tr>\n",
       "      <th>0</th>\n",
       "      <td>1</td>\n",
       "      <td>1</td>\n",
       "      <td>TX</td>\n",
       "      <td>48628171.02</td>\n",
       "      <td>8852276.69</td>\n",
       "      <td>24278189.23</td>\n",
       "      <td>365880.0</td>\n",
       "      <td>4452</td>\n",
       "      <td>False</td>\n",
       "      <td>33496345.92</td>\n",
       "      <td>15131825.10</td>\n",
       "    </tr>\n",
       "    <tr>\n",
       "      <th>1</th>\n",
       "      <td>1</td>\n",
       "      <td>2</td>\n",
       "      <td>TX</td>\n",
       "      <td>48107179.24</td>\n",
       "      <td>10221867.35</td>\n",
       "      <td>25116844.41</td>\n",
       "      <td>365880.0</td>\n",
       "      <td>4452</td>\n",
       "      <td>False</td>\n",
       "      <td>35704591.76</td>\n",
       "      <td>12402587.48</td>\n",
       "    </tr>\n",
       "    <tr>\n",
       "      <th>2</th>\n",
       "      <td>1</td>\n",
       "      <td>3</td>\n",
       "      <td>TX</td>\n",
       "      <td>64352278.29</td>\n",
       "      <td>9827993.77</td>\n",
       "      <td>33703499.83</td>\n",
       "      <td>365880.0</td>\n",
       "      <td>4452</td>\n",
       "      <td>False</td>\n",
       "      <td>43897373.60</td>\n",
       "      <td>20454904.69</td>\n",
       "    </tr>\n",
       "    <tr>\n",
       "      <th>3</th>\n",
       "      <td>1</td>\n",
       "      <td>4</td>\n",
       "      <td>TX</td>\n",
       "      <td>45943677.96</td>\n",
       "      <td>8398285.00</td>\n",
       "      <td>24037719.47</td>\n",
       "      <td>365880.0</td>\n",
       "      <td>4452</td>\n",
       "      <td>False</td>\n",
       "      <td>32801884.47</td>\n",
       "      <td>13141793.49</td>\n",
       "    </tr>\n",
       "    <tr>\n",
       "      <th>4</th>\n",
       "      <td>1</td>\n",
       "      <td>5</td>\n",
       "      <td>TX</td>\n",
       "      <td>32761434.98</td>\n",
       "      <td>7656236.43</td>\n",
       "      <td>16432119.18</td>\n",
       "      <td>365880.0</td>\n",
       "      <td>4452</td>\n",
       "      <td>False</td>\n",
       "      <td>24454235.61</td>\n",
       "      <td>8307199.37</td>\n",
       "    </tr>\n",
       "  </tbody>\n",
       "</table>\n",
       "</div>"
      ],
      "text/plain": [
       "   Location number  Month State  Gross revenue   Fixed cost  Variable cost  \\\n",
       "0                1      1    TX    48628171.02   8852276.69    24278189.23   \n",
       "1                1      2    TX    48107179.24  10221867.35    25116844.41   \n",
       "2                1      3    TX    64352278.29   9827993.77    33703499.83   \n",
       "3                1      4    TX    45943677.96   8398285.00    24037719.47   \n",
       "4                1      5    TX    32761434.98   7656236.43    16432119.18   \n",
       "\n",
       "   Rental cost  Number of products  Owned   Total cost   Net income  \n",
       "0     365880.0                4452  False  33496345.92  15131825.10  \n",
       "1     365880.0                4452  False  35704591.76  12402587.48  \n",
       "2     365880.0                4452  False  43897373.60  20454904.69  \n",
       "3     365880.0                4452  False  32801884.47  13141793.49  \n",
       "4     365880.0                4452  False  24454235.61   8307199.37  "
      ]
     },
     "execution_count": 621,
     "metadata": {},
     "output_type": "execute_result"
    }
   ],
   "source": [
    "iData = accountingData.copy()\n",
    "iData['Fixed cost'] = iData['Fixed cost'] - iData['Rental cost']\n",
    "iData['Rental cost'].replace(0, np.nan, inplace=True)\n",
    "iData.head()"
   ]
  },
  {
   "cell_type": "code",
   "execution_count": 622,
   "metadata": {},
   "outputs": [
    {
     "data": {
      "text/html": [
       "<div>\n",
       "<style scoped>\n",
       "    .dataframe tbody tr th:only-of-type {\n",
       "        vertical-align: middle;\n",
       "    }\n",
       "\n",
       "    .dataframe tbody tr th {\n",
       "        vertical-align: top;\n",
       "    }\n",
       "\n",
       "    .dataframe thead th {\n",
       "        text-align: right;\n",
       "    }\n",
       "</style>\n",
       "<table border=\"1\" class=\"dataframe\">\n",
       "  <thead>\n",
       "    <tr style=\"text-align: right;\">\n",
       "      <th></th>\n",
       "      <th>Fixed cost</th>\n",
       "      <th>Rental cost</th>\n",
       "      <th>Number of products</th>\n",
       "      <th>Net income</th>\n",
       "      <th>State</th>\n",
       "      <th>Owned</th>\n",
       "    </tr>\n",
       "    <tr>\n",
       "      <th>Location number</th>\n",
       "      <th></th>\n",
       "      <th></th>\n",
       "      <th></th>\n",
       "      <th></th>\n",
       "      <th></th>\n",
       "      <th></th>\n",
       "    </tr>\n",
       "  </thead>\n",
       "  <tbody>\n",
       "    <tr>\n",
       "      <th>1</th>\n",
       "      <td>8.875418e+06</td>\n",
       "      <td>365880.0</td>\n",
       "      <td>4452</td>\n",
       "      <td>1.287288e+07</td>\n",
       "      <td>TX</td>\n",
       "      <td>False</td>\n",
       "    </tr>\n",
       "    <tr>\n",
       "      <th>2</th>\n",
       "      <td>6.007559e+06</td>\n",
       "      <td>65270.0</td>\n",
       "      <td>4502</td>\n",
       "      <td>7.447497e+06</td>\n",
       "      <td>TX</td>\n",
       "      <td>False</td>\n",
       "    </tr>\n",
       "    <tr>\n",
       "      <th>3</th>\n",
       "      <td>5.358146e+06</td>\n",
       "      <td>NaN</td>\n",
       "      <td>4620</td>\n",
       "      <td>6.887182e+06</td>\n",
       "      <td>IL</td>\n",
       "      <td>True</td>\n",
       "    </tr>\n",
       "    <tr>\n",
       "      <th>4</th>\n",
       "      <td>5.200598e+06</td>\n",
       "      <td>141410.0</td>\n",
       "      <td>4481</td>\n",
       "      <td>4.720034e+06</td>\n",
       "      <td>GA</td>\n",
       "      <td>False</td>\n",
       "    </tr>\n",
       "    <tr>\n",
       "      <th>5</th>\n",
       "      <td>3.654708e+06</td>\n",
       "      <td>74500.0</td>\n",
       "      <td>4533</td>\n",
       "      <td>3.374648e+06</td>\n",
       "      <td>NJ</td>\n",
       "      <td>False</td>\n",
       "    </tr>\n",
       "  </tbody>\n",
       "</table>\n",
       "</div>"
      ],
      "text/plain": [
       "                   Fixed cost  Rental cost  Number of products    Net income  \\\n",
       "Location number                                                                \n",
       "1                8.875418e+06     365880.0                4452  1.287288e+07   \n",
       "2                6.007559e+06      65270.0                4502  7.447497e+06   \n",
       "3                5.358146e+06          NaN                4620  6.887182e+06   \n",
       "4                5.200598e+06     141410.0                4481  4.720034e+06   \n",
       "5                3.654708e+06      74500.0                4533  3.374648e+06   \n",
       "\n",
       "                State  Owned  \n",
       "Location number               \n",
       "1                  TX  False  \n",
       "2                  TX  False  \n",
       "3                  IL   True  \n",
       "4                  GA  False  \n",
       "5                  NJ  False  "
      ]
     },
     "execution_count": 622,
     "metadata": {},
     "output_type": "execute_result"
    }
   ],
   "source": [
    "avgByLoc = iData[['Location number', 'Fixed cost',\n",
    "                  'Rental cost', 'Number of products','Net income']].copy()\n",
    "avgByLoc = avgByLoc.groupby('Location number').mean()\n",
    "\n",
    "states_dict = dict(zip(iData['Location number'], iData['State']))\n",
    "owned_dict = dict(zip(iData['Location number'], iData['Owned']))\n",
    "\n",
    "avgByLoc['State'] = impute.index.map(states_dict)\n",
    "avgByLoc['Owned'] = impute.index.map(owned_dict)\n",
    "avgByLoc.head()"
   ]
  },
  {
   "cell_type": "code",
   "execution_count": 1129,
   "metadata": {},
   "outputs": [],
   "source": [
    "ownedData = avgByLoc[avgByLoc['Owned'] == True]\n",
    "ownedData = ownedData.drop(columns=['Owned'])"
   ]
  },
  {
   "cell_type": "code",
   "execution_count": 1065,
   "metadata": {},
   "outputs": [],
   "source": [
    "rentedData = avgByLoc[avgByLoc['Owned'] == False]\n",
    "rentedData = rentedData.drop(columns=['Owned'])"
   ]
  },
  {
   "cell_type": "code",
   "execution_count": 1062,
   "metadata": {},
   "outputs": [],
   "source": [
    "ohe = pd.get_dummies(rentedData)\n",
    "\n",
    "rentalCost = np.array(ohe['Rental cost'])\n",
    "ohe = ohe.drop('Rental cost', axis = 1)\n",
    "\n",
    "ohe_list = list(ohe.columns)\n",
    "x = np.array(ohe)"
   ]
  },
  {
   "cell_type": "code",
   "execution_count": 626,
   "metadata": {},
   "outputs": [],
   "source": [
    "train_x, test_x, train_y, test_y = train_test_split(x, rentalCost, test_size = 0.25, random_state = 50)"
   ]
  },
  {
   "cell_type": "code",
   "execution_count": 627,
   "metadata": {},
   "outputs": [],
   "source": [
    "rf = RandomForestRegressor(n_estimators = 1000, random_state = 50)\n",
    "rf.fit(train_x, train_y);"
   ]
  },
  {
   "cell_type": "code",
   "execution_count": 628,
   "metadata": {},
   "outputs": [
    {
     "name": "stdout",
     "output_type": "stream",
     "text": [
      "Mean Absolute Error: 51228.28 degrees.\n"
     ]
    }
   ],
   "source": [
    "predictions = rf.predict(test_x)\n",
    "errors = abs(predictions - test_y)\n",
    "print('Mean Absolute Error:', round(np.mean(errors), 2), 'degrees.')"
   ]
  },
  {
   "cell_type": "code",
   "execution_count": 629,
   "metadata": {},
   "outputs": [
    {
     "name": "stdout",
     "output_type": "stream",
     "text": [
      "Accuracy: 54.54 %.\n"
     ]
    }
   ],
   "source": [
    "# Calculate mean absolute percentage error (MAPE)\n",
    "mape = 100 * (errors / test_y)\n",
    "accuracy = 100 - np.mean(mape)\n",
    "print('Accuracy:', round(accuracy, 2), '%.')"
   ]
  },
  {
   "cell_type": "markdown",
   "metadata": {},
   "source": [
    "Now that the model has been trained, we apply it to our Owned data set to find the best set of values to impute. Finally, once we have the imputed values Rental Cost, we add all Rental Costs back into Fixed Cost and recalculate the rent-adjusted mean/median Profit Margin. With our imputed data, we actually tighten the spread between mean and median giving us an even more normal distribution."
   ]
  },
  {
   "cell_type": "code",
   "execution_count": 630,
   "metadata": {},
   "outputs": [],
   "source": [
    "oheOwned = pd.get_dummies(ownedData)\n",
    "labels = np.array(oheOwned['Rental cost'])\n",
    "oheOwned = oheOwned.drop('Rental cost', axis = 1)\n",
    "ohe_list = list(oheOwned.columns)\n",
    "x2 = np.array(oheOwned)\n",
    "predictions2 = rf.predict(x2)"
   ]
  },
  {
   "cell_type": "code",
   "execution_count": 631,
   "metadata": {},
   "outputs": [],
   "source": [
    "ownedData['imputed'] = predictions2\n",
    "imputed_dict = dict(zip(ownedData.index, ownedData['imputed']))"
   ]
  },
  {
   "cell_type": "code",
   "execution_count": 1066,
   "metadata": {
    "scrolled": true
   },
   "outputs": [],
   "source": [
    "iData['rentImpute'] = iData['Location number'].map(imputed_dict)\n",
    "iData['Rental cost'] = iData['Rental cost'].fillna(iData['rentImpute'])"
   ]
  },
  {
   "cell_type": "code",
   "execution_count": 646,
   "metadata": {},
   "outputs": [
    {
     "data": {
      "text/html": [
       "<div>\n",
       "<style scoped>\n",
       "    .dataframe tbody tr th:only-of-type {\n",
       "        vertical-align: middle;\n",
       "    }\n",
       "\n",
       "    .dataframe tbody tr th {\n",
       "        vertical-align: top;\n",
       "    }\n",
       "\n",
       "    .dataframe thead th {\n",
       "        text-align: right;\n",
       "    }\n",
       "</style>\n",
       "<table border=\"1\" class=\"dataframe\">\n",
       "  <thead>\n",
       "    <tr style=\"text-align: right;\">\n",
       "      <th></th>\n",
       "      <th>Location number</th>\n",
       "      <th>Month</th>\n",
       "      <th>State</th>\n",
       "      <th>Gross revenue</th>\n",
       "      <th>Fixed cost</th>\n",
       "      <th>Variable cost</th>\n",
       "      <th>Rental cost</th>\n",
       "      <th>Number of products</th>\n",
       "      <th>Owned</th>\n",
       "    </tr>\n",
       "  </thead>\n",
       "  <tbody>\n",
       "    <tr>\n",
       "      <th>0</th>\n",
       "      <td>1</td>\n",
       "      <td>1</td>\n",
       "      <td>TX</td>\n",
       "      <td>48628171.02</td>\n",
       "      <td>9218156.69</td>\n",
       "      <td>24278189.23</td>\n",
       "      <td>365880.0</td>\n",
       "      <td>4452</td>\n",
       "      <td>False</td>\n",
       "    </tr>\n",
       "    <tr>\n",
       "      <th>1</th>\n",
       "      <td>1</td>\n",
       "      <td>2</td>\n",
       "      <td>TX</td>\n",
       "      <td>48107179.24</td>\n",
       "      <td>10587747.35</td>\n",
       "      <td>25116844.41</td>\n",
       "      <td>365880.0</td>\n",
       "      <td>4452</td>\n",
       "      <td>False</td>\n",
       "    </tr>\n",
       "    <tr>\n",
       "      <th>2</th>\n",
       "      <td>1</td>\n",
       "      <td>3</td>\n",
       "      <td>TX</td>\n",
       "      <td>64352278.29</td>\n",
       "      <td>10193873.77</td>\n",
       "      <td>33703499.83</td>\n",
       "      <td>365880.0</td>\n",
       "      <td>4452</td>\n",
       "      <td>False</td>\n",
       "    </tr>\n",
       "    <tr>\n",
       "      <th>3</th>\n",
       "      <td>1</td>\n",
       "      <td>4</td>\n",
       "      <td>TX</td>\n",
       "      <td>45943677.96</td>\n",
       "      <td>8764165.00</td>\n",
       "      <td>24037719.47</td>\n",
       "      <td>365880.0</td>\n",
       "      <td>4452</td>\n",
       "      <td>False</td>\n",
       "    </tr>\n",
       "    <tr>\n",
       "      <th>4</th>\n",
       "      <td>1</td>\n",
       "      <td>5</td>\n",
       "      <td>TX</td>\n",
       "      <td>32761434.98</td>\n",
       "      <td>8022116.43</td>\n",
       "      <td>16432119.18</td>\n",
       "      <td>365880.0</td>\n",
       "      <td>4452</td>\n",
       "      <td>False</td>\n",
       "    </tr>\n",
       "  </tbody>\n",
       "</table>\n",
       "</div>"
      ],
      "text/plain": [
       "   Location number  Month State  Gross revenue   Fixed cost  Variable cost  \\\n",
       "0                1      1    TX    48628171.02   9218156.69    24278189.23   \n",
       "1                1      2    TX    48107179.24  10587747.35    25116844.41   \n",
       "2                1      3    TX    64352278.29  10193873.77    33703499.83   \n",
       "3                1      4    TX    45943677.96   8764165.00    24037719.47   \n",
       "4                1      5    TX    32761434.98   8022116.43    16432119.18   \n",
       "\n",
       "   Rental cost  Number of products  Owned  \n",
       "0     365880.0                4452  False  \n",
       "1     365880.0                4452  False  \n",
       "2     365880.0                4452  False  \n",
       "3     365880.0                4452  False  \n",
       "4     365880.0                4452  False  "
      ]
     },
     "execution_count": 646,
     "metadata": {},
     "output_type": "execute_result"
    }
   ],
   "source": [
    "cleanData = iData.copy()\n",
    "cleanData['Fixed cost'] = cleanData['Fixed cost'] + cleanData['Rental cost']\n",
    "cleanData = cleanData.drop(columns = ['rentImpute', 'Net income', 'Total cost'])\n",
    "cleanData.head()"
   ]
  },
  {
   "cell_type": "code",
   "execution_count": 652,
   "metadata": {},
   "outputs": [],
   "source": [
    "accountDataClean = cleanData.copy()\n",
    "accountDataClean['Total cost'] = accountDataClean['Variable cost'] + accountDataClean['Fixed cost']\n",
    "accountDataClean['Net income'] = accountDataClean['Gross revenue'] - accountDataClean['Total cost']"
   ]
  },
  {
   "cell_type": "code",
   "execution_count": 653,
   "metadata": {
    "scrolled": true
   },
   "outputs": [
    {
     "data": {
      "text/html": [
       "<div>\n",
       "<style scoped>\n",
       "    .dataframe tbody tr th:only-of-type {\n",
       "        vertical-align: middle;\n",
       "    }\n",
       "\n",
       "    .dataframe tbody tr th {\n",
       "        vertical-align: top;\n",
       "    }\n",
       "\n",
       "    .dataframe thead th {\n",
       "        text-align: right;\n",
       "    }\n",
       "</style>\n",
       "<table border=\"1\" class=\"dataframe\">\n",
       "  <thead>\n",
       "    <tr style=\"text-align: right;\">\n",
       "      <th></th>\n",
       "      <th>Gross revenue</th>\n",
       "      <th>Fixed cost</th>\n",
       "      <th>Variable cost</th>\n",
       "      <th>Total cost</th>\n",
       "      <th>Net income</th>\n",
       "      <th>Profit Margin</th>\n",
       "    </tr>\n",
       "    <tr>\n",
       "      <th>Location number</th>\n",
       "      <th></th>\n",
       "      <th></th>\n",
       "      <th></th>\n",
       "      <th></th>\n",
       "      <th></th>\n",
       "      <th></th>\n",
       "    </tr>\n",
       "  </thead>\n",
       "  <tbody>\n",
       "    <tr>\n",
       "      <th>1</th>\n",
       "      <td>5.447389e+08</td>\n",
       "      <td>1.108956e+08</td>\n",
       "      <td>2.793687e+08</td>\n",
       "      <td>3.902643e+08</td>\n",
       "      <td>1.544746e+08</td>\n",
       "      <td>28.357547</td>\n",
       "    </tr>\n",
       "    <tr>\n",
       "      <th>2</th>\n",
       "      <td>3.559730e+08</td>\n",
       "      <td>7.287395e+07</td>\n",
       "      <td>1.937291e+08</td>\n",
       "      <td>2.666030e+08</td>\n",
       "      <td>8.936996e+07</td>\n",
       "      <td>25.105826</td>\n",
       "    </tr>\n",
       "    <tr>\n",
       "      <th>3</th>\n",
       "      <td>3.317718e+08</td>\n",
       "      <td>6.580399e+07</td>\n",
       "      <td>1.848279e+08</td>\n",
       "      <td>2.506319e+08</td>\n",
       "      <td>8.113994e+07</td>\n",
       "      <td>24.456550</td>\n",
       "    </tr>\n",
       "    <tr>\n",
       "      <th>4</th>\n",
       "      <td>2.639843e+08</td>\n",
       "      <td>6.410409e+07</td>\n",
       "      <td>1.432398e+08</td>\n",
       "      <td>2.073439e+08</td>\n",
       "      <td>5.664041e+07</td>\n",
       "      <td>21.455975</td>\n",
       "    </tr>\n",
       "    <tr>\n",
       "      <th>5</th>\n",
       "      <td>1.890016e+08</td>\n",
       "      <td>4.475050e+07</td>\n",
       "      <td>1.037553e+08</td>\n",
       "      <td>1.485058e+08</td>\n",
       "      <td>4.049578e+07</td>\n",
       "      <td>21.426157</td>\n",
       "    </tr>\n",
       "  </tbody>\n",
       "</table>\n",
       "</div>"
      ],
      "text/plain": [
       "                 Gross revenue    Fixed cost  Variable cost    Total cost  \\\n",
       "Location number                                                             \n",
       "1                 5.447389e+08  1.108956e+08   2.793687e+08  3.902643e+08   \n",
       "2                 3.559730e+08  7.287395e+07   1.937291e+08  2.666030e+08   \n",
       "3                 3.317718e+08  6.580399e+07   1.848279e+08  2.506319e+08   \n",
       "4                 2.639843e+08  6.410409e+07   1.432398e+08  2.073439e+08   \n",
       "5                 1.890016e+08  4.475050e+07   1.037553e+08  1.485058e+08   \n",
       "\n",
       "                   Net income  Profit Margin  \n",
       "Location number                               \n",
       "1                1.544746e+08      28.357547  \n",
       "2                8.936996e+07      25.105826  \n",
       "3                8.113994e+07      24.456550  \n",
       "4                5.664041e+07      21.455975  \n",
       "5                4.049578e+07      21.426157  "
      ]
     },
     "execution_count": 653,
     "metadata": {},
     "output_type": "execute_result"
    }
   ],
   "source": [
    "ssByLocClean = accountDataClean[['Location number', 'Gross revenue', 'Fixed cost',\n",
    "                   'Variable cost', 'Total cost', 'Net income']].copy()\n",
    "ssByLocClean = ssByLocClean.groupby('Location number').sum()\n",
    "ssByLocClean['Profit Margin'] = (100*(ssByLocClean['Net income'] / ssByLocClean['Gross revenue']))\n",
    "ssByLocClean.head()"
   ]
  },
  {
   "cell_type": "code",
   "execution_count": 658,
   "metadata": {},
   "outputs": [
    {
     "name": "stdout",
     "output_type": "stream",
     "text": [
      "Raw Mean: 25.401183118537112\n",
      "Raw Median: 26.711186779772767\n"
     ]
    }
   ],
   "source": [
    "print('Raw Mean:', ssByLoc['Profit Margin'].mean())\n",
    "print('Raw Median:', ssByLoc['Profit Margin'].median())"
   ]
  },
  {
   "cell_type": "code",
   "execution_count": 657,
   "metadata": {},
   "outputs": [
    {
     "name": "stdout",
     "output_type": "stream",
     "text": [
      "Rent-adjusted Mean: 25.361040394126736\n",
      "Rent-adjusted Median: 26.5667964396534\n"
     ]
    }
   ],
   "source": [
    "print('Rent-adjusted Mean:', ssByLocClean['Profit Margin'].mean())\n",
    "print('Rent-adjusted Median:', ssByLocClean['Profit Margin'].median())"
   ]
  },
  {
   "cell_type": "markdown",
   "metadata": {},
   "source": [
    "## Part 3 - Quantify drivers of success"
   ]
  },
  {
   "attachments": {},
   "cell_type": "markdown",
   "metadata": {},
   "source": [
    "To begin looking for revenue drivers, we first sought to visualize the data to see if anything stood out. We visualized the data by Geography and first looked at accounting items such as Gross Revenue and Total Cost. For the most part, they Revenue and Total Cost shares were in line with the number of stores in each state. We notice, that New Jersey and Illinois tends to have high costs relative to their Gross Revenue. This could potentially signal lower Profit Margins in these states.\n",
    "\n",
    "Next we moved towards building a regression model to see if any of our indicators were good predictors of high Profit Margins. Gross Revenue, Fixed Cost, Variable Cost, and Rental Cost are all confounding with Profit Margins, as they are used to calculate it. We tried to see if we could find a relationship between the number of products and geographic location. \n",
    "\n",
    "Once again we used dummy variables for the categorical variable \"States\". Next we ran a Multiple Linear Regression and found significance. We are able to identify a significant correlation between higher Profit Margins and Number of Products and select states. We checked our regression assumptions by testing the model residual assumptions. We concluded that the residuals have a constant variance, are approximately normally distributed, and independent of one another. \n",
    "\n",
    "We further performed fundamental analyses on the data to look for any patterns in the data that could lead to an arbitrage opportunity. We studied the liquidity of each location trying to determine were efficiencies could be found. A key metric we looked at during this time was contribution margin."
   ]
  },
  {
   "cell_type": "code",
   "execution_count": 738,
   "metadata": {},
   "outputs": [],
   "source": [
    "states_dict = dict(zip(cleanData['Location number'], cleanData['State']))\n",
    "owned_dict = dict(zip(cleanData['Location number'], cleanData['Owned']))\n",
    "products_dict = dict(zip(cleanData['Location number'], cleanData['Number of products']))\n",
    "\n",
    "ssByLocClean['State'] = ssByLocClean.index.map(states_dict)\n",
    "ssByLocClean['Owned'] = ssByLocClean.index.map(owned_dict)\n",
    "ssByLocClean['Number of products'] = ssByLocClean.index.map(products_dict)"
   ]
  },
  {
   "cell_type": "code",
   "execution_count": 740,
   "metadata": {},
   "outputs": [
    {
     "data": {
      "text/plain": [
       "<matplotlib.legend.Legend at 0x1c233715c0>"
      ]
     },
     "execution_count": 740,
     "metadata": {},
     "output_type": "execute_result"
    },
    {
     "data": {
      "image/png": "[encoded data removed]",
      "text/plain": [
       "<Figure size 1080x360 with 3 Axes>"
      ]
     },
     "metadata": {},
     "output_type": "display_data"
    }
   ],
   "source": [
    "count = ssByLocClean.groupby('State').count()\n",
    "sums = ssByLocClean.groupby('State').sum()\n",
    "count = count[['Fixed cost']]\n",
    "count.columns = ['Count']\n",
    "count['Gross revenue'] = sums['Gross revenue']\n",
    "count['Total cost'] = sums['Total cost']\n",
    "plot = count.plot.pie(subplots=True, figsize=(15, 5), colormap = 'viridis', legend=False)\n",
    "plt.legend(bbox_to_anchor=(1, 1))\n"
   ]
  },
  {
   "cell_type": "code",
   "execution_count": 1080,
   "metadata": {},
   "outputs": [
    {
     "data": {
      "image/png": "[encoded data removed]",
      "text/plain": [
       "<Figure size 850x255 with 2 Axes>"
      ]
     },
     "metadata": {
      "needs_background": "light"
     },
     "output_type": "display_data"
    }
   ],
   "source": [
    "def Millions(x, pos):\n",
    "    'The two args are the value and tick position'\n",
    "    return '$%1.1fB' % (x*1e-6)\n",
    "\n",
    "formatterb = plt.FuncFormatter(Millions)\n",
    "plt.figure(figsize=(10, 3), dpi= 85)\n",
    "\n",
    "a = plt.subplot(1, 2, 1)\n",
    "sns.boxplot(x=\"State\", y=\"Gross revenue\", data=loss, palette=\"viridis\")\n",
    "a.yaxis.set_major_formatter(formatterb)\n",
    "box.set_title(\"Monthly Gross Revenue by State\")\n",
    "\n",
    "b = plt.subplot(1, 2, 2)\n",
    "sns.boxplot(x=\"State\", y=\"Total cost\", data=loss, palette=\"viridis\")\n",
    "b.yaxis.set_major_formatter(formatterb)\n",
    "box.set_title(\"Monthly Total Cost by State\")\n",
    "\n",
    "plt.tight_layout()"
   ]
  },
  {
   "cell_type": "code",
   "execution_count": 1081,
   "metadata": {},
   "outputs": [],
   "source": [
    "regData = ssByLocClean[['State', 'Owned', 'Number of products', 'Profit Margin']].copy()"
   ]
  },
  {
   "cell_type": "code",
   "execution_count": 785,
   "metadata": {},
   "outputs": [
    {
     "data": {
      "image/png": "[encoded data removed]",
      "text/plain": [
       "<Figure size 850x255 with 2 Axes>"
      ]
     },
     "metadata": {
      "needs_background": "light"
     },
     "output_type": "display_data"
    }
   ],
   "source": [
    "plt.figure(figsize=(10, 3), dpi= 85)\n",
    "\n",
    "a = plt.subplot(1, 2, 1)\n",
    "x = regData['Number of products'] \n",
    "y = regData['Profit Margin']\n",
    "plt.scatter(x, y,alpha=0.5)\n",
    "plt.title('Number of Products vs. Profit Margin')\n",
    "plt.xlabel('Number of Products')\n",
    "plt.ylabel('Profit Margin')\n",
    "# regData.plt.boxplot(by='State', column=['Profit Margin'], grid=False)\n",
    "\n",
    "box = plt.subplot(1, 2, 2)\n",
    "sns.boxplot(x=\"State\", y=\"Profit Margin\", data=regData, palette=\"viridis\")\n",
    "box.set_title(\"Profit Margin by State\")\n",
    "\n",
    "plt.tight_layout()"
   ]
  },
  {
   "cell_type": "code",
   "execution_count": 800,
   "metadata": {},
   "outputs": [
    {
     "name": "stdout",
     "output_type": "stream",
     "text": [
      "Index(['Number of products', 'Profit Margin', 'State_CA', 'State_CO',\n",
      "       'State_GA', 'State_IL', 'State_NJ', 'State_TX', 'State_WA',\n",
      "       'Owned_False', 'Owned_True'],\n",
      "      dtype='object')\n"
     ]
    }
   ],
   "source": [
    "regDatOHE = pd.get_dummies(regData)\n",
    "regDatOHE\n",
    "print(regDatOHE.columns)"
   ]
  },
  {
   "cell_type": "code",
   "execution_count": 855,
   "metadata": {
    "scrolled": false
   },
   "outputs": [
    {
     "data": {
      "text/html": [
       "<table class=\"simpletable\">\n",
       "<caption>OLS Regression Results</caption>\n",
       "<tr>\n",
       "  <th>Dep. Variable:</th>      <td>Profit Margin</td>  <th>  R-squared:         </th> <td>   0.795</td> \n",
       "</tr>\n",
       "<tr>\n",
       "  <th>Model:</th>                   <td>OLS</td>       <th>  Adj. R-squared:    </th> <td>   0.792</td> \n",
       "</tr>\n",
       "<tr>\n",
       "  <th>Method:</th>             <td>Least Squares</td>  <th>  F-statistic:       </th> <td>   254.1</td> \n",
       "</tr>\n",
       "<tr>\n",
       "  <th>Date:</th>             <td>Mon, 16 Sep 2019</td> <th>  Prob (F-statistic):</th> <td>2.61e-110</td>\n",
       "</tr>\n",
       "<tr>\n",
       "  <th>Time:</th>                 <td>01:17:15</td>     <th>  Log-Likelihood:    </th> <td> -810.57</td> \n",
       "</tr>\n",
       "<tr>\n",
       "  <th>No. Observations:</th>      <td>   333</td>      <th>  AIC:               </th> <td>   1633.</td> \n",
       "</tr>\n",
       "<tr>\n",
       "  <th>Df Residuals:</th>          <td>   327</td>      <th>  BIC:               </th> <td>   1656.</td> \n",
       "</tr>\n",
       "<tr>\n",
       "  <th>Df Model:</th>              <td>     5</td>      <th>                     </th>     <td> </td>    \n",
       "</tr>\n",
       "<tr>\n",
       "  <th>Covariance Type:</th>      <td>nonrobust</td>    <th>                     </th>     <td> </td>    \n",
       "</tr>\n",
       "</table>\n",
       "<table class=\"simpletable\">\n",
       "<tr>\n",
       "           <td></td>             <th>coef</th>     <th>std err</th>      <th>t</th>      <th>P>|t|</th>  <th>[0.025</th>    <th>0.975]</th>  \n",
       "</tr>\n",
       "<tr>\n",
       "  <th>const</th>              <td> -139.4862</td> <td>    5.121</td> <td>  -27.239</td> <td> 0.000</td> <td> -149.560</td> <td> -129.412</td>\n",
       "</tr>\n",
       "<tr>\n",
       "  <th>Number of products</th> <td>    0.0359</td> <td>    0.001</td> <td>   31.684</td> <td> 0.000</td> <td>    0.034</td> <td>    0.038</td>\n",
       "</tr>\n",
       "<tr>\n",
       "  <th>State_CA</th>           <td>    4.4806</td> <td>    0.423</td> <td>   10.594</td> <td> 0.000</td> <td>    3.649</td> <td>    5.313</td>\n",
       "</tr>\n",
       "<tr>\n",
       "  <th>State_CO</th>           <td>    2.9865</td> <td>    0.757</td> <td>    3.946</td> <td> 0.000</td> <td>    1.498</td> <td>    4.475</td>\n",
       "</tr>\n",
       "<tr>\n",
       "  <th>State_TX</th>           <td>    5.8710</td> <td>    0.364</td> <td>   16.146</td> <td> 0.000</td> <td>    5.156</td> <td>    6.586</td>\n",
       "</tr>\n",
       "<tr>\n",
       "  <th>State_WA</th>           <td>    4.7877</td> <td>    0.782</td> <td>    6.120</td> <td> 0.000</td> <td>    3.249</td> <td>    6.327</td>\n",
       "</tr>\n",
       "</table>\n",
       "<table class=\"simpletable\">\n",
       "<tr>\n",
       "  <th>Omnibus:</th>       <td> 2.061</td> <th>  Durbin-Watson:     </th> <td>   1.942</td>\n",
       "</tr>\n",
       "<tr>\n",
       "  <th>Prob(Omnibus):</th> <td> 0.357</td> <th>  Jarque-Bera (JB):  </th> <td>   1.965</td>\n",
       "</tr>\n",
       "<tr>\n",
       "  <th>Skew:</th>          <td>-0.050</td> <th>  Prob(JB):          </th> <td>   0.374</td>\n",
       "</tr>\n",
       "<tr>\n",
       "  <th>Kurtosis:</th>      <td> 3.363</td> <th>  Cond. No.          </th> <td>1.51e+05</td>\n",
       "</tr>\n",
       "</table><br/><br/>Warnings:<br/>[1] Standard Errors assume that the covariance matrix of the errors is correctly specified.<br/>[2] The condition number is large, 1.51e+05. This might indicate that there are<br/>strong multicollinearity or other numerical problems."
      ],
      "text/plain": [
       "<class 'statsmodels.iolib.summary.Summary'>\n",
       "\"\"\"\n",
       "                            OLS Regression Results                            \n",
       "==============================================================================\n",
       "Dep. Variable:          Profit Margin   R-squared:                       0.795\n",
       "Model:                            OLS   Adj. R-squared:                  0.792\n",
       "Method:                 Least Squares   F-statistic:                     254.1\n",
       "Date:                Mon, 16 Sep 2019   Prob (F-statistic):          2.61e-110\n",
       "Time:                        01:17:15   Log-Likelihood:                -810.57\n",
       "No. Observations:                 333   AIC:                             1633.\n",
       "Df Residuals:                     327   BIC:                             1656.\n",
       "Df Model:                           5                                         \n",
       "Covariance Type:            nonrobust                                         \n",
       "======================================================================================\n",
       "                         coef    std err          t      P>|t|      [0.025      0.975]\n",
       "--------------------------------------------------------------------------------------\n",
       "const               -139.4862      5.121    -27.239      0.000    -149.560    -129.412\n",
       "Number of products     0.0359      0.001     31.684      0.000       0.034       0.038\n",
       "State_CA               4.4806      0.423     10.594      0.000       3.649       5.313\n",
       "State_CO               2.9865      0.757      3.946      0.000       1.498       4.475\n",
       "State_TX               5.8710      0.364     16.146      0.000       5.156       6.586\n",
       "State_WA               4.7877      0.782      6.120      0.000       3.249       6.327\n",
       "==============================================================================\n",
       "Omnibus:                        2.061   Durbin-Watson:                   1.942\n",
       "Prob(Omnibus):                  0.357   Jarque-Bera (JB):                1.965\n",
       "Skew:                          -0.050   Prob(JB):                        0.374\n",
       "Kurtosis:                       3.363   Cond. No.                     1.51e+05\n",
       "==============================================================================\n",
       "\n",
       "Warnings:\n",
       "[1] Standard Errors assume that the covariance matrix of the errors is correctly specified.\n",
       "[2] The condition number is large, 1.51e+05. This might indicate that there are\n",
       "strong multicollinearity or other numerical problems.\n",
       "\"\"\""
      ]
     },
     "execution_count": 855,
     "metadata": {},
     "output_type": "execute_result"
    }
   ],
   "source": [
    "x = regDatOHE[['Number of products', 'State_CA', 'State_CO', 'State_TX', 'State_WA']]\n",
    "y = regDatOHE['Profit Margin']\n",
    "X = sm.add_constant(x) # adding a constant\n",
    " \n",
    "model = sm.OLS(y, X).fit()\n",
    "predictions = model.predict(X) \n",
    " \n",
    "model.summary()\n"
   ]
  },
  {
   "cell_type": "code",
   "execution_count": 897,
   "metadata": {},
   "outputs": [
    {
     "data": {
      "image/png": "[encoded data removed]",
      "text/plain": [
       "<Figure size 1275x340 with 3 Axes>"
      ]
     },
     "metadata": {
      "needs_background": "light"
     },
     "output_type": "display_data"
    }
   ],
   "source": [
    "plt.figure(figsize=(15, 4), dpi= 85)\n",
    "\n",
    "pred_val = model.fittedvalues.copy()\n",
    "true_val = regDatOHE['Profit Margin'].values.copy()\n",
    "residual = true_val - pred_val\n",
    "\n",
    "dist = plt.subplot(1,3,1)\n",
    "sns.distplot(residual, hist=True, kde=True, bins=20, color = 'darkblue', \n",
    "             hist_kws={'edgecolor':'black'}, \n",
    "             kde_kws={'linewidth': 4})\n",
    "dist.set_title('Profit Margin Distribution')\n",
    "dist.set_ylabel('Density')\n",
    "dist.set_xlabel('Location Profit Margins')\n",
    "\n",
    "ax = plt.subplot(1, 3, 2)\n",
    "#fig, ax = plt.subplots(figsize=(6,2.5))\n",
    "ax.scatter(pred_val, residual)\n",
    "X_plot = np.linspace(0,0,50)\n",
    "plt.plot(X_plot)\n",
    "ax.set_title('Residuals v. Fitted')\n",
    "ax.set_ylabel('Residuals')\n",
    "ax.set_xlabel('Fitted')\n",
    "\n",
    "qq2 = plt.subplot(1, 3, 3)\n",
    "stats.probplot(residual, dist=\"norm\", plot=pylab)\n",
    "qq2.set_title(\"QQ Probability Plot\")\n",
    "\n",
    "plt.tight_layout()"
   ]
  },
  {
   "cell_type": "code",
   "execution_count": 1051,
   "metadata": {},
   "outputs": [
    {
     "data": {
      "text/html": [
       "<div>\n",
       "<style scoped>\n",
       "    .dataframe tbody tr th:only-of-type {\n",
       "        vertical-align: middle;\n",
       "    }\n",
       "\n",
       "    .dataframe tbody tr th {\n",
       "        vertical-align: top;\n",
       "    }\n",
       "\n",
       "    .dataframe thead th {\n",
       "        text-align: right;\n",
       "    }\n",
       "</style>\n",
       "<table border=\"1\" class=\"dataframe\">\n",
       "  <thead>\n",
       "    <tr style=\"text-align: right;\">\n",
       "      <th></th>\n",
       "      <th>Gross revenue</th>\n",
       "      <th>Fixed cost</th>\n",
       "      <th>Variable cost</th>\n",
       "      <th>Total cost</th>\n",
       "      <th>Net income</th>\n",
       "      <th>Profit Margin</th>\n",
       "      <th>Number of roducts</th>\n",
       "      <th>Number of products</th>\n",
       "      <th>Contribution Margin</th>\n",
       "      <th>BE Unit</th>\n",
       "      <th>ACPU</th>\n",
       "      <th>Break Even</th>\n",
       "      <th>Bankrupt</th>\n",
       "    </tr>\n",
       "    <tr>\n",
       "      <th>Location number</th>\n",
       "      <th></th>\n",
       "      <th></th>\n",
       "      <th></th>\n",
       "      <th></th>\n",
       "      <th></th>\n",
       "      <th></th>\n",
       "      <th></th>\n",
       "      <th></th>\n",
       "      <th></th>\n",
       "      <th></th>\n",
       "      <th></th>\n",
       "      <th></th>\n",
       "      <th></th>\n",
       "    </tr>\n",
       "  </thead>\n",
       "  <tbody>\n",
       "    <tr>\n",
       "      <th>157</th>\n",
       "      <td>80236324</td>\n",
       "      <td>30791322</td>\n",
       "      <td>49317383</td>\n",
       "      <td>80108706</td>\n",
       "      <td>127618</td>\n",
       "      <td>0</td>\n",
       "      <td>3810</td>\n",
       "      <td>3810</td>\n",
       "      <td>8115</td>\n",
       "      <td>3794</td>\n",
       "      <td>21025</td>\n",
       "      <td>79778056</td>\n",
       "      <td>458267</td>\n",
       "    </tr>\n",
       "    <tr>\n",
       "      <th>318</th>\n",
       "      <td>78200484</td>\n",
       "      <td>31010812</td>\n",
       "      <td>36695764</td>\n",
       "      <td>67706577</td>\n",
       "      <td>10493906</td>\n",
       "      <td>13</td>\n",
       "      <td>4117</td>\n",
       "      <td>4117</td>\n",
       "      <td>10081</td>\n",
       "      <td>3076</td>\n",
       "      <td>16445</td>\n",
       "      <td>50587885</td>\n",
       "      <td>27612598</td>\n",
       "    </tr>\n",
       "    <tr>\n",
       "      <th>126</th>\n",
       "      <td>144771219</td>\n",
       "      <td>48201991</td>\n",
       "      <td>85254812</td>\n",
       "      <td>133456804</td>\n",
       "      <td>11314415</td>\n",
       "      <td>7</td>\n",
       "      <td>4218</td>\n",
       "      <td>4218</td>\n",
       "      <td>14110</td>\n",
       "      <td>3416</td>\n",
       "      <td>31639</td>\n",
       "      <td>108085889</td>\n",
       "      <td>36685329</td>\n",
       "    </tr>\n",
       "    <tr>\n",
       "      <th>13</th>\n",
       "      <td>109103553</td>\n",
       "      <td>35387757</td>\n",
       "      <td>61542292</td>\n",
       "      <td>96930049</td>\n",
       "      <td>12173503</td>\n",
       "      <td>11</td>\n",
       "      <td>4289</td>\n",
       "      <td>4289</td>\n",
       "      <td>11089</td>\n",
       "      <td>3191</td>\n",
       "      <td>22599</td>\n",
       "      <td>72120397</td>\n",
       "      <td>36983155</td>\n",
       "    </tr>\n",
       "    <tr>\n",
       "      <th>298</th>\n",
       "      <td>98228731</td>\n",
       "      <td>29218287</td>\n",
       "      <td>56820281</td>\n",
       "      <td>86038568</td>\n",
       "      <td>12190162</td>\n",
       "      <td>12</td>\n",
       "      <td>4180</td>\n",
       "      <td>4180</td>\n",
       "      <td>9906</td>\n",
       "      <td>2949</td>\n",
       "      <td>20583</td>\n",
       "      <td>60709821</td>\n",
       "      <td>37518909</td>\n",
       "    </tr>\n",
       "  </tbody>\n",
       "</table>\n",
       "</div>"
      ],
      "text/plain": [
       "                 Gross revenue  Fixed cost  Variable cost  Total cost  \\\n",
       "Location number                                                         \n",
       "157                   80236324    30791322       49317383    80108706   \n",
       "318                   78200484    31010812       36695764    67706577   \n",
       "126                  144771219    48201991       85254812   133456804   \n",
       "13                   109103553    35387757       61542292    96930049   \n",
       "298                   98228731    29218287       56820281    86038568   \n",
       "\n",
       "                 Net income  Profit Margin  Number of roducts  \\\n",
       "Location number                                                 \n",
       "157                  127618              0               3810   \n",
       "318                10493906             13               4117   \n",
       "126                11314415              7               4218   \n",
       "13                 12173503             11               4289   \n",
       "298                12190162             12               4180   \n",
       "\n",
       "                 Number of products  Contribution Margin  BE Unit   ACPU  \\\n",
       "Location number                                                            \n",
       "157                            3810                 8115     3794  21025   \n",
       "318                            4117                10081     3076  16445   \n",
       "126                            4218                14110     3416  31639   \n",
       "13                             4289                11089     3191  22599   \n",
       "298                            4180                 9906     2949  20583   \n",
       "\n",
       "                 Break Even  Bankrupt  \n",
       "Location number                        \n",
       "157                79778056    458267  \n",
       "318                50587885  27612598  \n",
       "126               108085889  36685329  \n",
       "13                 72120397  36983155  \n",
       "298                60709821  37518909  "
      ]
     },
     "execution_count": 1051,
     "metadata": {},
     "output_type": "execute_result"
    }
   ],
   "source": [
    "j = ssByLocClean.copy()\n",
    "j = j.drop(columns = ['State', 'Owned'])\n",
    "j['Contribution Margin'] = (j['Gross revenue'] - j['Variable cost'])/j['Number of products']\n",
    "j['BE Unit'] = j['Fixed cost'] / j['Contribution Margin']\n",
    "j['ACPU'] = j['Total cost'] / j['Number of products']\n",
    "j['Break Even'] = j['ACPU']*j['BE Unit']\n",
    "j['Bankrupt'] = j['Gross revenue'] - j['Break Even']\n",
    "j = j.sort_values('Bankrupt', ascending = True)\n",
    "j.head().astype('int64')"
   ]
  },
  {
   "cell_type": "code",
   "execution_count": 1082,
   "metadata": {},
   "outputs": [
    {
     "data": {
      "text/html": [
       "<div>\n",
       "<style scoped>\n",
       "    .dataframe tbody tr th:only-of-type {\n",
       "        vertical-align: middle;\n",
       "    }\n",
       "\n",
       "    .dataframe tbody tr th {\n",
       "        vertical-align: top;\n",
       "    }\n",
       "\n",
       "    .dataframe thead th {\n",
       "        text-align: right;\n",
       "    }\n",
       "</style>\n",
       "<table border=\"1\" class=\"dataframe\">\n",
       "  <thead>\n",
       "    <tr style=\"text-align: right;\">\n",
       "      <th></th>\n",
       "      <th>Gross revenue</th>\n",
       "      <th>Fixed cost</th>\n",
       "      <th>Variable cost</th>\n",
       "      <th>Total cost</th>\n",
       "      <th>Net income</th>\n",
       "      <th>contribution margin</th>\n",
       "    </tr>\n",
       "    <tr>\n",
       "      <th>Month</th>\n",
       "      <th></th>\n",
       "      <th></th>\n",
       "      <th></th>\n",
       "      <th></th>\n",
       "      <th></th>\n",
       "      <th></th>\n",
       "    </tr>\n",
       "  </thead>\n",
       "  <tbody>\n",
       "    <tr>\n",
       "      <th>1</th>\n",
       "      <td>9.304129e+09</td>\n",
       "      <td>2.074683e+09</td>\n",
       "      <td>4.943004e+09</td>\n",
       "      <td>7.017687e+09</td>\n",
       "      <td>2.286442e+09</td>\n",
       "      <td>46.873012</td>\n",
       "    </tr>\n",
       "    <tr>\n",
       "      <th>2</th>\n",
       "      <td>9.786843e+09</td>\n",
       "      <td>1.969538e+09</td>\n",
       "      <td>5.180280e+09</td>\n",
       "      <td>7.149818e+09</td>\n",
       "      <td>2.637025e+09</td>\n",
       "      <td>47.068935</td>\n",
       "    </tr>\n",
       "    <tr>\n",
       "      <th>3</th>\n",
       "      <td>1.158736e+10</td>\n",
       "      <td>2.302041e+09</td>\n",
       "      <td>6.126065e+09</td>\n",
       "      <td>8.428105e+09</td>\n",
       "      <td>3.159256e+09</td>\n",
       "      <td>47.131496</td>\n",
       "    </tr>\n",
       "    <tr>\n",
       "      <th>4</th>\n",
       "      <td>9.105208e+09</td>\n",
       "      <td>1.920667e+09</td>\n",
       "      <td>4.754642e+09</td>\n",
       "      <td>6.675309e+09</td>\n",
       "      <td>2.429900e+09</td>\n",
       "      <td>47.781073</td>\n",
       "    </tr>\n",
       "    <tr>\n",
       "      <th>5</th>\n",
       "      <td>9.347461e+09</td>\n",
       "      <td>1.882437e+09</td>\n",
       "      <td>4.860179e+09</td>\n",
       "      <td>6.742615e+09</td>\n",
       "      <td>2.604846e+09</td>\n",
       "      <td>48.005364</td>\n",
       "    </tr>\n",
       "  </tbody>\n",
       "</table>\n",
       "</div>"
      ],
      "text/plain": [
       "       Gross revenue    Fixed cost  Variable cost    Total cost    Net income  \\\n",
       "Month                                                                           \n",
       "1       9.304129e+09  2.074683e+09   4.943004e+09  7.017687e+09  2.286442e+09   \n",
       "2       9.786843e+09  1.969538e+09   5.180280e+09  7.149818e+09  2.637025e+09   \n",
       "3       1.158736e+10  2.302041e+09   6.126065e+09  8.428105e+09  3.159256e+09   \n",
       "4       9.105208e+09  1.920667e+09   4.754642e+09  6.675309e+09  2.429900e+09   \n",
       "5       9.347461e+09  1.882437e+09   4.860179e+09  6.742615e+09  2.604846e+09   \n",
       "\n",
       "       contribution margin  \n",
       "Month                       \n",
       "1                46.873012  \n",
       "2                47.068935  \n",
       "3                47.131496  \n",
       "4                47.781073  \n",
       "5                48.005364  "
      ]
     },
     "execution_count": 1082,
     "metadata": {},
     "output_type": "execute_result"
    }
   ],
   "source": [
    "t = accountDataClean.copy().drop(columns = ['Location number','Rental cost', 'Number of products', 'Owned'])\n",
    "t = t.groupby('Month').sum()\n",
    "t['contribution margin'] = 100*(t['Gross revenue'] - t['Variable cost'])/t['Gross revenue']\n",
    "t.head()"
   ]
  },
  {
   "cell_type": "code",
   "execution_count": 1084,
   "metadata": {},
   "outputs": [
    {
     "data": {
      "text/html": [
       "<div>\n",
       "<style scoped>\n",
       "    .dataframe tbody tr th:only-of-type {\n",
       "        vertical-align: middle;\n",
       "    }\n",
       "\n",
       "    .dataframe tbody tr th {\n",
       "        vertical-align: top;\n",
       "    }\n",
       "\n",
       "    .dataframe thead th {\n",
       "        text-align: right;\n",
       "    }\n",
       "</style>\n",
       "<table border=\"1\" class=\"dataframe\">\n",
       "  <thead>\n",
       "    <tr style=\"text-align: right;\">\n",
       "      <th></th>\n",
       "      <th>Gross revenue</th>\n",
       "      <th>Fixed cost</th>\n",
       "      <th>Variable cost</th>\n",
       "      <th>Total cost</th>\n",
       "      <th>Net income</th>\n",
       "      <th>contribution margin</th>\n",
       "    </tr>\n",
       "    <tr>\n",
       "      <th>Month</th>\n",
       "      <th></th>\n",
       "      <th></th>\n",
       "      <th></th>\n",
       "      <th></th>\n",
       "      <th></th>\n",
       "      <th></th>\n",
       "    </tr>\n",
       "  </thead>\n",
       "  <tbody>\n",
       "    <tr>\n",
       "      <th>1</th>\n",
       "      <td>NaN</td>\n",
       "      <td>NaN</td>\n",
       "      <td>NaN</td>\n",
       "      <td>NaN</td>\n",
       "      <td>NaN</td>\n",
       "      <td>NaN</td>\n",
       "    </tr>\n",
       "    <tr>\n",
       "      <th>2</th>\n",
       "      <td>0.051882</td>\n",
       "      <td>-0.050680</td>\n",
       "      <td>0.048003</td>\n",
       "      <td>0.018828</td>\n",
       "      <td>0.153331</td>\n",
       "      <td>0.004180</td>\n",
       "    </tr>\n",
       "    <tr>\n",
       "      <th>3</th>\n",
       "      <td>0.183973</td>\n",
       "      <td>0.168823</td>\n",
       "      <td>0.182574</td>\n",
       "      <td>0.178786</td>\n",
       "      <td>0.198038</td>\n",
       "      <td>0.001329</td>\n",
       "    </tr>\n",
       "    <tr>\n",
       "      <th>4</th>\n",
       "      <td>-0.214212</td>\n",
       "      <td>-0.165668</td>\n",
       "      <td>-0.223867</td>\n",
       "      <td>-0.207970</td>\n",
       "      <td>-0.230863</td>\n",
       "      <td>0.013782</td>\n",
       "    </tr>\n",
       "    <tr>\n",
       "      <th>5</th>\n",
       "      <td>0.026606</td>\n",
       "      <td>-0.019905</td>\n",
       "      <td>0.022197</td>\n",
       "      <td>0.010083</td>\n",
       "      <td>0.071998</td>\n",
       "      <td>0.004694</td>\n",
       "    </tr>\n",
       "  </tbody>\n",
       "</table>\n",
       "</div>"
      ],
      "text/plain": [
       "       Gross revenue  Fixed cost  Variable cost  Total cost  Net income  \\\n",
       "Month                                                                     \n",
       "1                NaN         NaN            NaN         NaN         NaN   \n",
       "2           0.051882   -0.050680       0.048003    0.018828    0.153331   \n",
       "3           0.183973    0.168823       0.182574    0.178786    0.198038   \n",
       "4          -0.214212   -0.165668      -0.223867   -0.207970   -0.230863   \n",
       "5           0.026606   -0.019905       0.022197    0.010083    0.071998   \n",
       "\n",
       "       contribution margin  \n",
       "Month                       \n",
       "1                      NaN  \n",
       "2                 0.004180  \n",
       "3                 0.001329  \n",
       "4                 0.013782  \n",
       "5                 0.004694  "
      ]
     },
     "execution_count": 1084,
     "metadata": {},
     "output_type": "execute_result"
    }
   ],
   "source": [
    "pct = t.pct_change()\n",
    "pct.head()"
   ]
  },
  {
   "cell_type": "markdown",
   "metadata": {},
   "source": [
    "## Appendix"
   ]
  },
  {
   "cell_type": "markdown",
   "metadata": {},
   "source": [
    "### i"
   ]
  },
  {
   "cell_type": "code",
   "execution_count": 1144,
   "metadata": {},
   "outputs": [],
   "source": [
    "append = avgByLoc.copy()\n",
    "append['Rental cost'] = append['Rental cost'].fillna(append['Rental cost'].mean())"
   ]
  },
  {
   "cell_type": "code",
   "execution_count": 1152,
   "metadata": {},
   "outputs": [],
   "source": [
    "ohe2 = pd.get_dummies(append)\n",
    "\n",
    "rentalCost2 = np.array(ohe2['Rental cost'])\n",
    "ohe2 = ohe2.drop('Rental cost', axis = 1)\n",
    "\n",
    "ohe_list2 = list(ohe2.columns)\n",
    "x2 = np.array(ohe2)"
   ]
  },
  {
   "cell_type": "code",
   "execution_count": 1153,
   "metadata": {},
   "outputs": [],
   "source": [
    "train_x2, test_x2, train_y2, test_y2 = train_test_split(x2, rentalCost2, test_size = 0.25, random_state = 50)\n",
    "rf2 = RandomForestRegressor(n_estimators = 1000, random_state = 50)\n",
    "rf2.fit(train_x2, train_y2);"
   ]
  },
  {
   "cell_type": "code",
   "execution_count": 1154,
   "metadata": {},
   "outputs": [
    {
     "name": "stdout",
     "output_type": "stream",
     "text": [
      "Mean Absolute Error: 41539.29 degrees.\n"
     ]
    }
   ],
   "source": [
    "predictions2 = rf2.predict(test_x2)\n",
    "errors2 = abs(predictions2 - test_y2)\n",
    "print('Mean Absolute Error:', round(np.mean(errors2), 2), 'degrees.')"
   ]
  },
  {
   "cell_type": "code",
   "execution_count": 1155,
   "metadata": {},
   "outputs": [
    {
     "name": "stdout",
     "output_type": "stream",
     "text": [
      "Accuracy: 57.98 %.\n"
     ]
    }
   ],
   "source": [
    "mape2 = 100 * (errors2 / test_y2)\n",
    "accuracy2 = 100 - np.mean(mape2)\n",
    "print('Accuracy:', round(accuracy2, 2), '%.')"
   ]
  },
  {
   "cell_type": "markdown",
   "metadata": {},
   "source": [
    "### ii"
   ]
  },
  {
   "cell_type": "code",
   "execution_count": 1077,
   "metadata": {},
   "outputs": [],
   "source": [
    "accounts = rawData[['Month', 'State','Gross revenue']].copy()\n",
    "monthlyData = accounts.groupby(['Month', 'State']).sum()\n",
    "monthlyData = monthlyData.unstack(level = 1)\n",
    "monthlyData.columns = monthlyData.columns.droplevel(0)"
   ]
  },
  {
   "cell_type": "code",
   "execution_count": 1078,
   "metadata": {},
   "outputs": [],
   "source": [
    "qData2 = monthlyData.groupby(np.arange(len(monthlyData)) //3).sum()\n",
    "quarters = ['Q1', 'Q2', 'Q3', 'Q4']\n",
    "qData2['Quarters'] = quarters\n",
    "qData2 = qData2.set_index('Quarters')"
   ]
  },
  {
   "cell_type": "code",
   "execution_count": 1076,
   "metadata": {},
   "outputs": [
    {
     "data": {
      "image/png": "[encoded data removed]",
      "text/plain": [
       "<Figure size 1080x360 with 1 Axes>"
      ]
     },
     "metadata": {
      "needs_background": "light"
     },
     "output_type": "display_data"
    }
   ],
   "source": [
    "plt.figure(figsize=(15,5))\n",
    "\n",
    "w = 0.35\n",
    "index = qData2.index\n",
    "graphCA = plt.bar(x=index, height= qData2['CA'], width = w)\n",
    "graphCO = plt.bar(x=index, height= qData2['CO'], width = w, bottom = qData2['CA'])\n",
    "graphGA = plt.bar(x=index, height= qData2['GA'], width = w, bottom = qData2['CA'] + qData2['CO'])\n",
    "graphIL = plt.bar(x=index, height= qData2['IL'], width = w, bottom = qData2['CA'] + qData2['CO'] + qData2['GA'])\n",
    "graphNJ = plt.bar(x=index, height= qData2['NJ'], width = w,\n",
    "                  bottom = qData2['CA'] + qData2['CO'] + qData2['GA'] + qData2['IL'])\n",
    "graphTX = plt.bar(x=index, height= qData2['TX'],\n",
    "                  width = w, bottom = qData2['CA'] + qData2['CO'] + qData2['GA'] + qData2['IL'] + qData2['NJ'])\n",
    "graphWA = plt.bar(x=index, height= qData2['WA'], width = w,\n",
    "                  bottom = qData2['CA'] + qData2['CO'] + qData2['GA'] + qData2['IL'] + qData2['NJ'] + qData2['TX'])\n",
    "\n",
    "plt.ylabel('Revenue')\n",
    "plt.title('Quarterly Revenue by State')\n",
    "plt.legend((graphWA, graphTX, graphNJ, graphIL, graphGA, graphCO, graphCA),\n",
    "           ('Washington', 'Texas', 'New Jersey', 'Illinois', 'Georgia','Colorado', 'California'),\n",
    "           bbox_to_anchor=(1, 1))\n",
    "plt.style.use('seaborn-dark-palette')"
   ]
  },
  {
   "cell_type": "markdown",
   "metadata": {},
   "source": [
    "### iii"
   ]
  },
  {
   "cell_type": "code",
   "execution_count": 1085,
   "metadata": {},
   "outputs": [
    {
     "data": {
      "image/png": "[encoded data removed]",
      "text/plain": [
       "<Figure size 576x576 with 1 Axes>"
      ]
     },
     "metadata": {
      "needs_background": "light"
     },
     "output_type": "display_data"
    }
   ],
   "source": [
    "lines = t.plot.line(figsize = (8,8))"
   ]
  },
  {
   "cell_type": "markdown",
   "metadata": {},
   "source": [
    "### iv"
   ]
  },
  {
   "cell_type": "code",
   "execution_count": 1086,
   "metadata": {},
   "outputs": [
    {
     "data": {
      "text/plain": [
       "25.65152046903497"
      ]
     },
     "execution_count": 1086,
     "metadata": {},
     "output_type": "execute_result"
    }
   ],
   "source": [
    "lowHigh = ssByLocClean.copy().sort_values('Profit Margin')\n",
    "lowHigh = lowHigh.reset_index(drop = False)\n",
    "IQR = 1.5*(stats.iqr(lowHigh['Profit Margin']))\n",
    "q1 = np.quantile(lowHigh['Profit Margin'], q = .25)\n",
    "q3 = np.quantile(lowHigh['Profit Margin'], q = .75)\n",
    "q1-IQR\n",
    "Outlier = lowHigh.iloc[0:5,]\n",
    "Outliers = lowHigh.iloc[5:,]\n",
    "Outliers['Profit Margin'].mean()"
   ]
  },
  {
   "cell_type": "code",
   "execution_count": 1094,
   "metadata": {},
   "outputs": [
    {
     "data": {
      "text/plain": [
       "Text(0.5, 1.0, 'Profit Margin Distribution')"
      ]
     },
     "execution_count": 1094,
     "metadata": {},
     "output_type": "execute_result"
    },
    {
     "data": {
      "image/png": "[encoded data removed]",
      "text/plain": [
       "<Figure size 1152x432 with 1 Axes>"
      ]
     },
     "metadata": {
      "needs_background": "light"
     },
     "output_type": "display_data"
    }
   ],
   "source": [
    "plt.figure(figsize=(16, 6))\n",
    "sns.boxplot(x=\"Profit Margin\", data=regData, palette=\"viridis\")\n",
    "box.set_title(\"Profit Margin Distribution\")"
   ]
  }
 ],
 "metadata": {
  "kernelspec": {
   "display_name": "Python 3",
   "language": "python",
   "name": "python3"
  },
  "language_info": {
   "codemirror_mode": {
    "name": "ipython",
    "version": 3
   },
   "file_extension": ".py",
   "mimetype": "text/x-python",
   "name": "python",
   "nbconvert_exporter": "python",
   "pygments_lexer": "ipython3",
   "version": "3.7.1"
  }
 },
 "nbformat": 4,
 "nbformat_minor": 2
}
